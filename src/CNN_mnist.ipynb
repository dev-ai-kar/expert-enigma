{
  "nbformat": 4,
  "nbformat_minor": 0,
  "metadata": {
    "colab": {
      "name": "CNN_mnist.ipynb",
      "provenance": [],
      "collapsed_sections": []
    },
    "kernelspec": {
      "name": "python3",
      "display_name": "Python 3"
    },
    "language_info": {
      "name": "python"
    },
    "accelerator": "GPU"
  },
  "cells": [
    {
      "cell_type": "code",
      "metadata": {
        "id": "hkjb5eV41zsG"
      },
      "source": [
        "import numpy as np\n",
        "import keras\n",
        "import matplotlib.pyplot as plt\n",
        "from keras.datasets import mnist"
      ],
      "execution_count": 1,
      "outputs": []
    },
    {
      "cell_type": "markdown",
      "metadata": {
        "id": "gLoREJnA6DF4"
      },
      "source": [
        "### Load MNIST Dataset with train-test split"
      ]
    },
    {
      "cell_type": "code",
      "metadata": {
        "id": "eCiPMzVb2Ngs"
      },
      "source": [
        "(X_train, y_train), (X_test, y_test) = mnist.load_data()"
      ],
      "execution_count": 2,
      "outputs": []
    },
    {
      "cell_type": "code",
      "metadata": {
        "colab": {
          "base_uri": "https://localhost:8080/"
        },
        "id": "HgxEYN_U2lCq",
        "outputId": "81ab7d09-76dc-48bd-80d8-f7cb2d56909d"
      },
      "source": [
        "print(X_train.shape)\n",
        "print(X_test.shape)"
      ],
      "execution_count": 3,
      "outputs": [
        {
          "output_type": "stream",
          "text": [
            "(60000, 28, 28)\n",
            "(10000, 28, 28)\n"
          ],
          "name": "stdout"
        }
      ]
    },
    {
      "cell_type": "code",
      "metadata": {
        "colab": {
          "base_uri": "https://localhost:8080/"
        },
        "id": "J0MwlDD92s3m",
        "outputId": "7c11e7e7-7621-490a-c934-1277ba1fdad2"
      },
      "source": [
        "print(y_train.shape)\n",
        "print(y_test.shape)"
      ],
      "execution_count": 4,
      "outputs": [
        {
          "output_type": "stream",
          "text": [
            "(60000,)\n",
            "(10000,)\n"
          ],
          "name": "stdout"
        }
      ]
    },
    {
      "cell_type": "code",
      "metadata": {
        "colab": {
          "base_uri": "https://localhost:8080/",
          "height": 282
        },
        "id": "1vx0gCh73B_Z",
        "outputId": "819614bf-d43c-47b6-bb76-da516d4aaf01"
      },
      "source": [
        "plt.imshow(X_train[0], cmap='gray')"
      ],
      "execution_count": 5,
      "outputs": [
        {
          "output_type": "execute_result",
          "data": {
            "text/plain": [
              "<matplotlib.image.AxesImage at 0x7fede8d07450>"
            ]
          },
          "metadata": {},
          "execution_count": 5
        },
        {
          "output_type": "display_data",
          "data": {
            "image/png": "[encoded data removed]",
            "text/plain": [
              "<Figure size 432x288 with 1 Axes>"
            ]
          },
          "metadata": {
            "needs_background": "light"
          }
        }
      ]
    },
    {
      "cell_type": "code",
      "metadata": {
        "colab": {
          "base_uri": "https://localhost:8080/"
        },
        "id": "MVNrG-gC3hkz",
        "outputId": "065c84a6-25c4-4123-9eb6-b4ef93a57e02"
      },
      "source": [
        "y_train[0]"
      ],
      "execution_count": 6,
      "outputs": [
        {
          "output_type": "execute_result",
          "data": {
            "text/plain": [
              "5"
            ]
          },
          "metadata": {},
          "execution_count": 6
        }
      ]
    },
    {
      "cell_type": "code",
      "metadata": {
        "id": "Z8Ao_8gF4FX5"
      },
      "source": [
        "# one extra dim for color\n",
        "X_train = np.expand_dims(X_train, axis=3)\n",
        "X_test = np.expand_dims(X_test, axis=3)"
      ],
      "execution_count": 7,
      "outputs": []
    },
    {
      "cell_type": "code",
      "metadata": {
        "colab": {
          "base_uri": "https://localhost:8080/"
        },
        "id": "Ga3i-QEH4xL5",
        "outputId": "78757558-246d-4519-ebb4-f187ec593c3d"
      },
      "source": [
        "print(X_train.shape)\n",
        "print(X_test.shape)"
      ],
      "execution_count": 8,
      "outputs": [
        {
          "output_type": "stream",
          "text": [
            "(60000, 28, 28, 1)\n",
            "(10000, 28, 28, 1)\n"
          ],
          "name": "stdout"
        }
      ]
    },
    {
      "cell_type": "code",
      "metadata": {
        "id": "43zotoQ-5MS9"
      },
      "source": [
        "from keras.utils.np_utils import to_categorical\n",
        "\n",
        "y_train = to_categorical(y_train, 10)\n",
        "y_test = to_categorical(y_test, 10)"
      ],
      "execution_count": 9,
      "outputs": []
    },
    {
      "cell_type": "code",
      "metadata": {
        "colab": {
          "base_uri": "https://localhost:8080/"
        },
        "id": "-63Na_Go5kMf",
        "outputId": "a461aed3-b19b-4b45-fcdb-cead3d301752"
      },
      "source": [
        "y_train[0]"
      ],
      "execution_count": 10,
      "outputs": [
        {
          "output_type": "execute_result",
          "data": {
            "text/plain": [
              "array([0., 0., 0., 0., 0., 1., 0., 0., 0., 0.], dtype=float32)"
            ]
          },
          "metadata": {},
          "execution_count": 10
        }
      ]
    },
    {
      "cell_type": "code",
      "metadata": {
        "id": "KEKMm9Ba8MKM"
      },
      "source": [
        "# Normalize Data as intensity is 255\n",
        "X_train, X_test = X_train/255, X_test/255"
      ],
      "execution_count": 11,
      "outputs": []
    },
    {
      "cell_type": "code",
      "metadata": {
        "id": "slJXzlWS91Rv"
      },
      "source": [
        "from keras.models import Sequential\n",
        "from keras.layers import Dense, Dropout, Flatten\n",
        "from tensorflow.keras.optimizers import Adam\n",
        "from keras.layers import MaxPooling2D, Conv2D\n",
        "\n",
        "def my_convnet_1():\n",
        "  model = Sequential()\n",
        "\n",
        "  #32 filters, kernal_size 5X5, input_size = 28X28, activation = ReLU\n",
        "  model.add(Conv2D(32, (5,5), input_shape=(28,28,1), activation='relu'))\n",
        "  model.add(MaxPooling2D((2,2)))\n",
        "\n",
        "  model.add(Conv2D(16, (3,3), activation='relu'))\n",
        "  model.add(MaxPooling2D((2,2)))\n",
        "\n",
        "  model.add(Flatten())\n",
        "  model.add(Dense(100, activation='relu'))\n",
        "\n",
        "  model.add(Dropout(0.5))\n",
        "\n",
        "  model.add(Dense(10, activation='softmax'))\n",
        "\n",
        "  # How to compute Loss func\n",
        "  model.compile(Adam(learning_rate=0.01), loss='categorical_crossentropy', metrics=['accuracy'])  #−(ylog(p)+(1−y)log(1−p))\n",
        "\n",
        "  return model"
      ],
      "execution_count": 12,
      "outputs": []
    },
    {
      "cell_type": "code",
      "metadata": {
        "id": "nwsMpl6EI8KW"
      },
      "source": [
        "model = my_convnet_1()"
      ],
      "execution_count": 13,
      "outputs": []
    },
    {
      "cell_type": "code",
      "metadata": {
        "colab": {
          "base_uri": "https://localhost:8080/"
        },
        "id": "9dO_1xD5I14K",
        "outputId": "9879a185-5a46-4843-a268-1cf110c5206b"
      },
      "source": [
        "model.summary()"
      ],
      "execution_count": 14,
      "outputs": [
        {
          "output_type": "stream",
          "text": [
            "Model: \"sequential\"\n",
            "_________________________________________________________________\n",
            "Layer (type)                 Output Shape              Param #   \n",
            "=================================================================\n",
            "conv2d (Conv2D)              (None, 24, 24, 32)        832       \n",
            "_________________________________________________________________\n",
            "max_pooling2d (MaxPooling2D) (None, 12, 12, 32)        0         \n",
            "_________________________________________________________________\n",
            "conv2d_1 (Conv2D)            (None, 10, 10, 16)        4624      \n",
            "_________________________________________________________________\n",
            "max_pooling2d_1 (MaxPooling2 (None, 5, 5, 16)          0         \n",
            "_________________________________________________________________\n",
            "flatten (Flatten)            (None, 400)               0         \n",
            "_________________________________________________________________\n",
            "dense (Dense)                (None, 100)               40100     \n",
            "_________________________________________________________________\n",
            "dropout (Dropout)            (None, 100)               0         \n",
            "_________________________________________________________________\n",
            "dense_1 (Dense)              (None, 10)                1010      \n",
            "=================================================================\n",
            "Total params: 46,566\n",
            "Trainable params: 46,566\n",
            "Non-trainable params: 0\n",
            "_________________________________________________________________\n"
          ],
          "name": "stdout"
        }
      ]
    },
    {
      "cell_type": "code",
      "metadata": {
        "colab": {
          "base_uri": "https://localhost:8080/"
        },
        "id": "4k0X_2VkI3_Q",
        "outputId": "2aa93591-8079-487f-94d4-8b4f468f458e"
      },
      "source": [
        "# Training a model wit Hyperparam: epoch, minibatch, no_of_iterations_per_epoch(100) : train_sample(10,000)/minibatch_size(100), activation, number_of_unit, no_layers, learning_rate\n",
        "# (68.57,17.14,14.0) (48, 12, 10)\n",
        "history = model.fit(X_train, y_train, epochs=8, validation_split=0.2, batch_size=256, verbose=1, shuffle=True)\n"
      ],
      "execution_count": 15,
      "outputs": [
        {
          "output_type": "stream",
          "text": [
            "Epoch 1/8\n",
            "188/188 [==============================] - 4s 12ms/step - loss: 0.2875 - accuracy: 0.9075 - val_loss: 0.1224 - val_accuracy: 0.9633\n",
            "Epoch 2/8\n",
            "188/188 [==============================] - 2s 10ms/step - loss: 0.1093 - accuracy: 0.9680 - val_loss: 0.0624 - val_accuracy: 0.9837\n",
            "Epoch 3/8\n",
            "188/188 [==============================] - 2s 10ms/step - loss: 0.0873 - accuracy: 0.9739 - val_loss: 0.0535 - val_accuracy: 0.9839\n",
            "Epoch 4/8\n",
            "188/188 [==============================] - 2s 9ms/step - loss: 0.0785 - accuracy: 0.9758 - val_loss: 0.0512 - val_accuracy: 0.9868\n",
            "Epoch 5/8\n",
            "188/188 [==============================] - 2s 10ms/step - loss: 0.0741 - accuracy: 0.9782 - val_loss: 0.0474 - val_accuracy: 0.9867\n",
            "Epoch 6/8\n",
            "188/188 [==============================] - 2s 10ms/step - loss: 0.0643 - accuracy: 0.9809 - val_loss: 0.0534 - val_accuracy: 0.9859\n",
            "Epoch 7/8\n",
            "188/188 [==============================] - 2s 10ms/step - loss: 0.0684 - accuracy: 0.9798 - val_loss: 0.0523 - val_accuracy: 0.9877\n",
            "Epoch 8/8\n",
            "188/188 [==============================] - 2s 10ms/step - loss: 0.0633 - accuracy: 0.9809 - val_loss: 0.0473 - val_accuracy: 0.9889\n"
          ],
          "name": "stdout"
        }
      ]
    },
    {
      "cell_type": "code",
      "metadata": {
        "colab": {
          "base_uri": "https://localhost:8080/"
        },
        "id": "xHSFvqyxR0Rt",
        "outputId": "2bf16dd2-57e8-4bb3-bb65-abc02d4256d6"
      },
      "source": [
        "import inspect\n",
        "inspect.getmro(type(history))"
      ],
      "execution_count": 16,
      "outputs": [
        {
          "output_type": "execute_result",
          "data": {
            "text/plain": [
              "(keras.callbacks.History, keras.callbacks.Callback, object)"
            ]
          },
          "metadata": {},
          "execution_count": 16
        }
      ]
    },
    {
      "cell_type": "code",
      "metadata": {
        "colab": {
          "base_uri": "https://localhost:8080/"
        },
        "id": "a9KtnMs8N7DE",
        "outputId": "bbb9825b-ce76-453d-f305-97b48b089db3"
      },
      "source": [
        "history.history"
      ],
      "execution_count": 17,
      "outputs": [
        {
          "output_type": "execute_result",
          "data": {
            "text/plain": [
              "{'accuracy': [0.9075000286102295,\n",
              "  0.9680416584014893,\n",
              "  0.9739375114440918,\n",
              "  0.9757708311080933,\n",
              "  0.9781875014305115,\n",
              "  0.9808750152587891,\n",
              "  0.979812502861023,\n",
              "  0.9809374809265137],\n",
              " 'loss': [0.2874867022037506,\n",
              "  0.10929985344409943,\n",
              "  0.08728175610303879,\n",
              "  0.07845713198184967,\n",
              "  0.07411670684814453,\n",
              "  0.06433293223381042,\n",
              "  0.06839904934167862,\n",
              "  0.06334315240383148],\n",
              " 'val_accuracy': [0.9633333086967468,\n",
              "  0.9837499856948853,\n",
              "  0.9839166402816772,\n",
              "  0.9868333339691162,\n",
              "  0.9866666793823242,\n",
              "  0.9859166741371155,\n",
              "  0.9877499938011169,\n",
              "  0.9889166951179504],\n",
              " 'val_loss': [0.12237635999917984,\n",
              "  0.06240314617753029,\n",
              "  0.05347362905740738,\n",
              "  0.0511588491499424,\n",
              "  0.04741746559739113,\n",
              "  0.053435370326042175,\n",
              "  0.052273742854595184,\n",
              "  0.047325339168310165]}"
            ]
          },
          "metadata": {},
          "execution_count": 17
        }
      ]
    },
    {
      "cell_type": "code",
      "metadata": {
        "colab": {
          "base_uri": "https://localhost:8080/",
          "height": 281
        },
        "id": "WN4gCt1oRCd6",
        "outputId": "54b4c284-6e8c-446c-e73a-e10583b3eabc"
      },
      "source": [
        "plt.plot(history.history['loss'])\n",
        "plt.plot(history.history['val_loss'])\n",
        "plt.title('LOSS- epoch vs loss')\n",
        "plt.legend(['training','validation'])\n",
        "plt.show()"
      ],
      "execution_count": 18,
      "outputs": [
        {
          "output_type": "display_data",
          "data": {
            "image/png": "[encoded data removed]",
            "text/plain": [
              "<Figure size 432x288 with 1 Axes>"
            ]
          },
          "metadata": {
            "needs_background": "light"
          }
        }
      ]
    },
    {
      "cell_type": "code",
      "metadata": {
        "colab": {
          "base_uri": "https://localhost:8080/",
          "height": 281
        },
        "id": "oXM8LtoNPV-v",
        "outputId": "0be567c6-48bb-443a-acfb-be5d5b7e2195"
      },
      "source": [
        "plt.plot(history.history['accuracy'])\n",
        "plt.plot(history.history['val_accuracy'])\n",
        "plt.title('LOSS- epoch vs accuracy')\n",
        "plt.legend(['training','validation'])\n",
        "plt.show()"
      ],
      "execution_count": 19,
      "outputs": [
        {
          "output_type": "display_data",
          "data": {
            "image/png": "[encoded data removed]",
            "text/plain": [
              "<Figure size 432x288 with 1 Axes>"
            ]
          },
          "metadata": {
            "needs_background": "light"
          }
        }
      ]
    },
    {
      "cell_type": "code",
      "metadata": {
        "id": "nu0IUe9dSclh"
      },
      "source": [
        "score = model.evaluate(X_test, y_test, verbose=0)"
      ],
      "execution_count": 20,
      "outputs": []
    },
    {
      "cell_type": "code",
      "metadata": {
        "colab": {
          "base_uri": "https://localhost:8080/"
        },
        "id": "6TUs8o--UoGF",
        "outputId": "4270cac4-3ba4-4e6e-be3f-4fc36c352c33"
      },
      "source": [
        "print('error', score[0])\n",
        "print('accuracy', score[1])"
      ],
      "execution_count": 21,
      "outputs": [
        {
          "output_type": "stream",
          "text": [
            "error 0.031755782663822174\n",
            "accuracy 0.9908000230789185\n"
          ],
          "name": "stdout"
        }
      ]
    },
    {
      "cell_type": "code",
      "metadata": {
        "id": "giZ_H1_hUxpF"
      },
      "source": [
        "# model.save('CCN_model.h5')"
      ],
      "execution_count": 22,
      "outputs": []
    },
    {
      "cell_type": "code",
      "metadata": {
        "colab": {
          "base_uri": "https://localhost:8080/",
          "height": 17
        },
        "id": "4-B7KXy9U5JA",
        "outputId": "b134f3a9-0c1e-49b9-cbfc-b11fe4ce9b75"
      },
      "source": [
        "# from google.colab import files\n",
        "# files.download('CCN_model.h5')"
      ],
      "execution_count": 23,
      "outputs": [
        {
          "output_type": "display_data",
          "data": {
            "application/javascript": [
              "\n",
              "    async function download(id, filename, size) {\n",
              "      if (!google.colab.kernel.accessAllowed) {\n",
              "        return;\n",
              "      }\n",
              "      const div = document.createElement('div');\n",
              "      const label = document.createElement('label');\n",
              "      label.textContent = `Downloading \"${filename}\": `;\n",
              "      div.appendChild(label);\n",
              "      const progress = document.createElement('progress');\n",
              "      progress.max = size;\n",
              "      div.appendChild(progress);\n",
              "      document.body.appendChild(div);\n",
              "\n",
              "      const buffers = [];\n",
              "      let downloaded = 0;\n",
              "\n",
              "      const channel = await google.colab.kernel.comms.open(id);\n",
              "      // Send a message to notify the kernel that we're ready.\n",
              "      channel.send({})\n",
              "\n",
              "      for await (const message of channel.messages) {\n",
              "        // Send a message to notify the kernel that we're ready.\n",
              "        channel.send({})\n",
              "        if (message.buffers) {\n",
              "          for (const buffer of message.buffers) {\n",
              "            buffers.push(buffer);\n",
              "            downloaded += buffer.byteLength;\n",
              "            progress.value = downloaded;\n",
              "          }\n",
              "        }\n",
              "      }\n",
              "      const blob = new Blob(buffers, {type: 'application/binary'});\n",
              "      const a = document.createElement('a');\n",
              "      a.href = window.URL.createObjectURL(blob);\n",
              "      a.download = filename;\n",
              "      div.appendChild(a);\n",
              "      a.click();\n",
              "      div.remove();\n",
              "    }\n",
              "  "
            ],
            "text/plain": [
              "<IPython.core.display.Javascript object>"
            ]
          },
          "metadata": {}
        },
        {
          "output_type": "display_data",
          "data": {
            "application/javascript": [
              "download(\"download_4d0d75f8-ee51-4210-9e13-b98dd01a88bd\", \"CCN_model.h5\", 604728)"
            ],
            "text/plain": [
              "<IPython.core.display.Javascript object>"
            ]
          },
          "metadata": {}
        }
      ]
    },
    {
      "cell_type": "code",
      "metadata": {
        "id": "Pt51XYZ3VEne"
      },
      "source": [
        ""
      ],
      "execution_count": 23,
      "outputs": []
    }
  ]
}